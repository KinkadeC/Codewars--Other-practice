{
 "cells": [
  {
   "cell_type": "markdown",
   "metadata": {},
   "source": [
    "## 6 kyu - Sum two arrays"
   ]
  },
  {
   "cell_type": "code",
   "execution_count": 58,
   "metadata": {},
   "outputs": [],
   "source": [
    "#solution using nothing other than loops, casting, and concatenation"
   ]
  },
  {
   "cell_type": "code",
   "execution_count": 57,
   "metadata": {},
   "outputs": [],
   "source": [
    "def sum_arrays(array1,array2):\n",
    "    \n",
    "    if len(array1) == 0 and len(array2) == 0:\n",
    "        return []\n",
    "    \n",
    "    def trim(arrayX):     \n",
    "        if len(arrayX) == 0:\n",
    "            return 0\n",
    "        if arrayX[0]<0:\n",
    "            arrayX[0] = arrayX[0] * -1\n",
    "            st = '-'\n",
    "        else:\n",
    "            st = ''\n",
    "        \n",
    "        for item in arrayX:\n",
    "            st += str(item)\n",
    "        return int(st)\n",
    "    \n",
    "    num = trim(array1)+trim(array2)\n",
    "    if num<0:\n",
    "        num = -num\n",
    "        ret = [int('-'+str(num)[0])]\n",
    "        for item in str(num)[1:]:\n",
    "            ret.append(int(item))\n",
    "    else:\n",
    "        ret = []\n",
    "        for item in str(num):\n",
    "            ret.append(int(item))\n",
    "    \n",
    "\n",
    "    return ret"
   ]
  },
  {
   "cell_type": "code",
   "execution_count": 53,
   "metadata": {},
   "outputs": [
    {
     "data": {
      "text/plain": [
       "[3, 4, 1]"
      ]
     },
     "execution_count": 53,
     "metadata": {},
     "output_type": "execute_result"
    }
   ],
   "source": [
    "sum_arrays([3,2,9],[1,2])\n"
   ]
  },
  {
   "cell_type": "code",
   "execution_count": 56,
   "metadata": {},
   "outputs": [
    {
     "data": {
      "text/plain": [
       "[-1, 5, 4, 2]"
      ]
     },
     "execution_count": 56,
     "metadata": {},
     "output_type": "execute_result"
    }
   ],
   "source": [
    "sum_arrays([-9, 4, 4],[-5, 9, 8])"
   ]
  },
  {
   "cell_type": "code",
   "execution_count": null,
   "metadata": {},
   "outputs": [],
   "source": [
    "#thebradman solution\n",
    "# uses map to simplify it, as well as more cleanly catches the empty array cases\n",
    "\n",
    "def sum_arrays(array1,array2):\n",
    "    if not array1 and not array2:\n",
    "        return []\n",
    "    else:\n",
    "        n1 = int(\"\".join(map(str,array1))) if array1 else 0\n",
    "        n2 = int(\"\".join(map(str,array2))) if array2 else 0\n",
    "        nT = n1+n2\n",
    "        lst = list(map(int,str(abs(nT))))\n",
    "        if nT < 0:\n",
    "            lst[0] = -lst[0]\n",
    "        return lst"
   ]
  }
 ],
 "metadata": {
  "kernelspec": {
   "display_name": "Python 3",
   "language": "python",
   "name": "python3"
  },
  "language_info": {
   "codemirror_mode": {
    "name": "ipython",
    "version": 3
   },
   "file_extension": ".py",
   "mimetype": "text/x-python",
   "name": "python",
   "nbconvert_exporter": "python",
   "pygments_lexer": "ipython3",
   "version": "3.7.3"
  }
 },
 "nbformat": 4,
 "nbformat_minor": 2
}
