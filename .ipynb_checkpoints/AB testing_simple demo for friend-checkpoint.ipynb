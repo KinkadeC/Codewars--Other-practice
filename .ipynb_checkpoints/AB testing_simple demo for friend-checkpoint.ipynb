{
 "cells": [
  {
   "cell_type": "code",
   "execution_count": 10,
   "metadata": {},
   "outputs": [],
   "source": [
    "import numpy as np\n",
    "import pandas as pd\n",
    "import math"
   ]
  },
  {
   "cell_type": "code",
   "execution_count": 7,
   "metadata": {},
   "outputs": [],
   "source": [
    "#core dataset, very simple mean ~=.5, value are either 0,1\n",
    "df = pd.DataFrame(np.random.randint(0,2,size=(10000,4)),columns=list('ABCD'))"
   ]
  },
  {
   "cell_type": "code",
   "execution_count": 12,
   "metadata": {},
   "outputs": [
    {
     "name": "stdout",
     "output_type": "stream",
     "text": [
      "0.4903000001959995 1.0 0.5098999998040005\n"
     ]
    }
   ],
   "source": [
    "col = 'A'\n",
    "x_bar = np.mean(df[col]) # mean of vector\n",
    "s = np.std(df[col]) # std of vector\n",
    "n = len(df[col]) # number of obs\n",
    "z = 1.96 # for a 95% CI\n",
    "\n",
    "lower = x_bar - (z * (s/math.sqrt(n)))\n",
    "upper = x_bar + (z * (s/math.sqrt(n)))\n",
    "med = np.median(df[col])\n",
    "\n",
    "print(lower, med, upper)"
   ]
  },
  {
   "cell_type": "code",
   "execution_count": 15,
   "metadata": {},
   "outputs": [],
   "source": [
    "#generate same of our fake ab test\n",
    "df_test = pd.DataFrame(np.divide(np.random.randint(80,95,size=(10000,1)),100),columns=list('A'))"
   ]
  },
  {
   "cell_type": "code",
   "execution_count": 17,
   "metadata": {},
   "outputs": [
    {
     "name": "stdout",
     "output_type": "stream",
     "text": [
      "0.869297860459886 0.87 0.8709841395401274\n"
     ]
    }
   ],
   "source": [
    "col = 'A'\n",
    "x_bar = np.mean(df_test[col]) # mean of vector\n",
    "s = np.std(df_test[col]) # std of vector\n",
    "n = len(df_test[col]) # number of obs\n",
    "z = 1.96 # for a 95% CI\n",
    "\n",
    "lower = x_bar - (z * (s/math.sqrt(n)))\n",
    "upper = x_bar + (z * (s/math.sqrt(n)))\n",
    "med = np.median(df_test[col])\n",
    "\n",
    "print(lower, med, upper)"
   ]
  },
  {
   "cell_type": "code",
   "execution_count": null,
   "metadata": {},
   "outputs": [],
   "source": []
  }
 ],
 "metadata": {
  "kernelspec": {
   "display_name": "Python 3",
   "language": "python",
   "name": "python3"
  },
  "language_info": {
   "codemirror_mode": {
    "name": "ipython",
    "version": 3
   },
   "file_extension": ".py",
   "mimetype": "text/x-python",
   "name": "python",
   "nbconvert_exporter": "python",
   "pygments_lexer": "ipython3",
   "version": "3.7.3"
  }
 },
 "nbformat": 4,
 "nbformat_minor": 2
}
