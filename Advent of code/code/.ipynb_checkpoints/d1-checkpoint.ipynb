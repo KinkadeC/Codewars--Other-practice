{
 "cells": [
  {
   "cell_type": "code",
   "execution_count": 2,
   "metadata": {},
   "outputs": [],
   "source": [
    "#packages\n",
    "\n",
    "import os\n",
    "from pathlib import Path\n",
    "\n",
    "import csv\n",
    "import pandas as pd\n",
    "import numpy as np\n",
    "\n",
    "from scipy import stats\n",
    "\n",
    "\n",
    "PATH = str(Path(os.getcwd()).parent)"
   ]
  },
  {
   "cell_type": "markdown",
   "metadata": {},
   "source": [
    "## Day 1, Part 1"
   ]
  },
  {
   "cell_type": "code",
   "execution_count": 23,
   "metadata": {},
   "outputs": [],
   "source": [
    "data1 = pd.read_csv(PATH+\"/Data/d1.txt\")\n",
    "expenses = data1.iloc[:,0].values"
   ]
  },
  {
   "cell_type": "code",
   "execution_count": 30,
   "metadata": {},
   "outputs": [
    {
     "data": {
      "text/plain": [
       "2009"
      ]
     },
     "execution_count": 30,
     "metadata": {},
     "output_type": "execute_result"
    }
   ],
   "source": [
    "np.max(expenses)"
   ]
  },
  {
   "cell_type": "code",
   "execution_count": 28,
   "metadata": {},
   "outputs": [],
   "source": [
    "#check data to confirm it's in range 1,2019\n",
    "assert np.min(expenses)>=0, \"Warning: list includes negative values\"\n",
    "assert 0 not in expenses, \"Warning: contains one or more zeros\"\\\n",
    "\n",
    "#no efficieny to be gained here\n"
   ]
  },
  {
   "cell_type": "code",
   "execution_count": 31,
   "metadata": {},
   "outputs": [
    {
     "ename": "KeyboardInterrupt",
     "evalue": "",
     "output_type": "error",
     "traceback": [
      "\u001b[1;31m---------------------------------------------------------------------------\u001b[0m",
      "\u001b[1;31mKeyboardInterrupt\u001b[0m                         Traceback (most recent call last)",
      "\u001b[1;32m<ipython-input-31-f8e4a2b43ab5>\u001b[0m in \u001b[0;36m<module>\u001b[1;34m\u001b[0m\n\u001b[0;32m      5\u001b[0m     \u001b[0mi\u001b[0m\u001b[1;33m=\u001b[0m\u001b[1;36m0\u001b[0m\u001b[1;33m\u001b[0m\u001b[1;33m\u001b[0m\u001b[0m\n\u001b[0;32m      6\u001b[0m     \u001b[1;32mfor\u001b[0m \u001b[0mj\u001b[0m \u001b[1;32min\u001b[0m \u001b[0mrange\u001b[0m\u001b[1;33m(\u001b[0m\u001b[0mi\u001b[0m\u001b[1;33m,\u001b[0m\u001b[0mexpenses\u001b[0m\u001b[1;33m.\u001b[0m\u001b[0mshape\u001b[0m\u001b[1;33m[\u001b[0m\u001b[1;36m0\u001b[0m\u001b[1;33m]\u001b[0m\u001b[1;33m)\u001b[0m\u001b[1;33m:\u001b[0m\u001b[1;33m\u001b[0m\u001b[1;33m\u001b[0m\u001b[0m\n\u001b[1;32m----> 7\u001b[1;33m         \u001b[1;32mif\u001b[0m \u001b[0mexpenses\u001b[0m\u001b[1;33m[\u001b[0m\u001b[0mi\u001b[0m\u001b[1;33m]\u001b[0m \u001b[1;33m+\u001b[0m \u001b[0mexpenses\u001b[0m\u001b[1;33m[\u001b[0m\u001b[0mj\u001b[0m\u001b[1;33m]\u001b[0m \u001b[1;33m==\u001b[0m \u001b[1;36m2020\u001b[0m\u001b[1;33m:\u001b[0m\u001b[1;33m\u001b[0m\u001b[1;33m\u001b[0m\u001b[0m\n\u001b[0m\u001b[0;32m      8\u001b[0m             \u001b[0msolved\u001b[0m \u001b[1;33m=\u001b[0m \u001b[1;32mTrue\u001b[0m\u001b[1;33m\u001b[0m\u001b[1;33m\u001b[0m\u001b[0m\n\u001b[0;32m      9\u001b[0m             \u001b[0msolution\u001b[0m \u001b[1;33m=\u001b[0m \u001b[0mexpenses\u001b[0m\u001b[1;33m[\u001b[0m\u001b[0mi\u001b[0m\u001b[1;33m]\u001b[0m \u001b[1;33m*\u001b[0m \u001b[0mexpenses\u001b[0m\u001b[1;33m[\u001b[0m\u001b[0mj\u001b[0m\u001b[1;33m]\u001b[0m\u001b[1;33m\u001b[0m\u001b[1;33m\u001b[0m\u001b[0m\n",
      "\u001b[1;31mKeyboardInterrupt\u001b[0m: "
     ]
    }
   ],
   "source": [
    "#manual method checking every number against all numbers after it, then repeating upwards\n",
    "#SLOW, inefficient\n",
    "solved = False\n",
    "solution = 0\n",
    "\n",
    "while solved == False:\n",
    "    i=0\n",
    "    for j in range(i,expenses.shape[0]):\n",
    "        if expenses[i] + expenses[j] == 2020:\n",
    "            solved = True\n",
    "            solution = expenses[i] * expenses[j]\n",
    "            break\n",
    "    i += 1\n",
    "          \n",
    "print(solution)\n",
    "    "
   ]
  },
  {
   "cell_type": "code",
   "execution_count": 36,
   "metadata": {},
   "outputs": [
    {
     "name": "stdout",
     "output_type": "stream",
     "text": [
      "solution is: 1886 * 134 = 252724\n"
     ]
    }
   ],
   "source": [
    "#better solution: for each number, check if its complement (to equal 2020) \n",
    "for num in expenses:\n",
    "    if (2020-num) in expenses:\n",
    "        print(\"solution is: %d * %d = %d\" % ((2020-num),num,(2020-num)*num))\n",
    "        break"
   ]
  },
  {
   "cell_type": "markdown",
   "metadata": {},
   "source": [
    "## Day 1, Part 2"
   ]
  },
  {
   "cell_type": "code",
   "execution_count": 44,
   "metadata": {},
   "outputs": [
    {
     "data": {
      "text/plain": [
       "199"
      ]
     },
     "execution_count": 44,
     "metadata": {},
     "output_type": "execute_result"
    }
   ],
   "source": [
    "expenses.shape[0]"
   ]
  },
  {
   "cell_type": "code",
   "execution_count": 49,
   "metadata": {},
   "outputs": [
    {
     "data": {
      "text/plain": [
       "array([ 134,  202,  470,  476,  587,  668,  783,  807,  818,  882, 1029,\n",
       "       1062, 1240, 1247, 1253, 1255, 1256, 1257, 1261, 1264, 1270, 1273,\n",
       "       1275, 1276, 1293, 1314, 1333, 1340, 1343, 1361, 1362, 1365, 1374,\n",
       "       1379, 1381, 1383, 1387, 1389, 1390, 1398, 1404, 1420, 1421, 1424,\n",
       "       1426, 1427, 1437, 1439, 1454, 1456, 1457, 1462, 1474, 1481, 1483,\n",
       "       1484, 1490, 1497, 1499, 1502, 1503, 1504, 1506, 1507, 1509, 1513,\n",
       "       1515, 1519, 1527, 1538, 1539, 1540, 1542, 1543, 1552, 1553, 1554,\n",
       "       1555, 1556, 1557, 1566, 1573, 1576, 1582, 1587, 1589, 1591, 1594,\n",
       "       1599, 1601, 1603, 1605, 1613, 1621, 1622, 1625, 1627, 1631, 1632,\n",
       "       1634, 1639, 1640, 1644, 1649, 1661, 1662, 1675, 1677, 1682, 1686,\n",
       "       1689, 1697, 1698, 1700, 1716, 1718, 1719, 1722, 1731, 1739, 1741,\n",
       "       1746, 1747, 1748, 1750, 1759, 1761, 1765, 1769, 1770, 1774, 1780,\n",
       "       1791, 1798, 1805, 1806, 1809, 1814, 1816, 1826, 1829, 1831, 1834,\n",
       "       1844, 1848, 1849, 1853, 1854, 1855, 1856, 1858, 1860, 1866, 1867,\n",
       "       1868, 1869, 1871, 1873, 1877, 1886, 1902, 1906, 1909, 1916, 1917,\n",
       "       1918, 1919, 1921, 1925, 1932, 1933, 1936, 1939, 1940, 1942, 1944,\n",
       "       1949, 1955, 1962, 1963, 1966, 1967, 1972, 1974, 1975, 1977, 1979,\n",
       "       1985, 1986, 1987, 1992, 1993, 1995, 1997, 2000, 2002, 2005, 2007,\n",
       "       2009], dtype=int64)"
      ]
     },
     "execution_count": 49,
     "metadata": {},
     "output_type": "execute_result"
    }
   ],
   "source": []
  },
  {
   "cell_type": "code",
   "execution_count": 52,
   "metadata": {},
   "outputs": [
    {
     "name": "stdout",
     "output_type": "stream",
     "text": [
      "Numbers are: 668, 882, 470, so solution is: 276912720\n"
     ]
    }
   ],
   "source": [
    "#two-pointer method\n",
    "expenses = np.sort(expenses)\n",
    "solve = False\n",
    "\n",
    "for i in range(0, expenses.shape[0]-2): \n",
    "    p1 = i + 1 \n",
    "    p2 = expenses.shape[0]-1 \n",
    "    while (p1 < p2): \n",
    "        if(expenses[p1] + expenses[p2] + expenses[i] == 2020): \n",
    "            print('Numbers are: %d, %d, %d, so solution is: %d' % (expenses[p1],expenses[p2],expenses[i],expenses[p1]*expenses[p2]*expenses[i]))\n",
    "            solve = True\n",
    "            break\n",
    "        elif (expenses[p1] + expenses[p2] + expenses[i] < 2020): \n",
    "            #print(expenses[p1] + expenses[p2] + expenses[i])\n",
    "            p1 += 1\n",
    "        else: # (expenses[p1] + expenses[p2] + expenses[i] > 2020) \n",
    "            p2 -= 1\n",
    "    if solve == True:\n",
    "        break\n",
    "      \n"
   ]
  },
  {
   "cell_type": "code",
   "execution_count": null,
   "metadata": {},
   "outputs": [],
   "source": []
  }
 ],
 "metadata": {
  "kernelspec": {
   "display_name": "Python 3",
   "language": "python",
   "name": "python3"
  },
  "language_info": {
   "codemirror_mode": {
    "name": "ipython",
    "version": 3
   },
   "file_extension": ".py",
   "mimetype": "text/x-python",
   "name": "python",
   "nbconvert_exporter": "python",
   "pygments_lexer": "ipython3",
   "version": "3.7.3"
  }
 },
 "nbformat": 4,
 "nbformat_minor": 2
}
